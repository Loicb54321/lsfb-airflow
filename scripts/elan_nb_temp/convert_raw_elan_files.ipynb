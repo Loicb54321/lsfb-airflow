{
 "cells": [
  {
   "cell_type": "code",
   "execution_count": 1,
   "outputs": [
    {
     "name": "stderr",
     "output_type": "stream",
     "text": [
      "100%|██████████| 253/253 [00:22<00:00, 11.05it/s, ./CLSFBI50/CLSFBI5078.eaf]           \n"
     ]
    }
   ],
   "source": [
    "from lsfb_processing.elan.converter import convert_all_elan_files\n",
    "\n",
    "root = \"/run/media/ppoitier/ppoitier/datasets/sign-languages/lsfb/cont\"\n",
    "convert_all_elan_files(\n",
    "    f\"{root}/elan/raw\",\n",
    "    f\"{root}/elan/converted\",\n",
    ")"
   ],
   "metadata": {
    "collapsed": false,
    "ExecuteTime": {
     "end_time": "2023-08-04T09:34:06.094823517Z",
     "start_time": "2023-08-04T09:33:43.199947653Z"
    }
   }
  },
  {
   "cell_type": "code",
   "execution_count": null,
   "outputs": [],
   "source": [],
   "metadata": {
    "collapsed": false
   }
  }
 ],
 "metadata": {
  "kernelspec": {
   "display_name": "Python 3",
   "language": "python",
   "name": "python3"
  },
  "language_info": {
   "codemirror_mode": {
    "name": "ipython",
    "version": 2
   },
   "file_extension": ".py",
   "mimetype": "text/x-python",
   "name": "python",
   "nbconvert_exporter": "python",
   "pygments_lexer": "ipython2",
   "version": "2.7.6"
  }
 },
 "nbformat": 4,
 "nbformat_minor": 0
}
