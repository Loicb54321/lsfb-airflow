{
 "cells": [
  {
   "cell_type": "code",
   "execution_count": 1,
   "outputs": [],
   "source": [
    "from lsfb_processing.lsfb_isol.isolate import isolate_all_signs"
   ],
   "metadata": {
    "collapsed": false,
    "ExecuteTime": {
     "end_time": "2023-08-10T11:53:44.959687442Z",
     "start_time": "2023-08-10T11:53:44.621242974Z"
    }
   }
  },
  {
   "cell_type": "code",
   "execution_count": 2,
   "metadata": {
    "collapsed": true,
    "ExecuteTime": {
     "end_time": "2023-08-10T11:53:44.962497198Z",
     "start_time": "2023-08-10T11:53:44.960779650Z"
    }
   },
   "outputs": [],
   "source": [
    "lsfb_cont_root = \"/run/media/ppoitier/ppoitier/datasets/sign-languages/lsfb/cont\"\n",
    "lsfb_isol_root = \"/run/media/ppoitier/ppoitier/datasets/sign-languages/lsfb/isol\""
   ]
  },
  {
   "cell_type": "code",
   "execution_count": 3,
   "outputs": [
    {
     "name": "stderr",
     "output_type": "stream",
     "text": [
      "100%|██████████| 497/497 [18:45<00:00,  2.26s/it]\n"
     ]
    }
   ],
   "source": [
    "isolate_all_signs(lsfb_cont_root, lsfb_isol_root, show_progress=True)"
   ],
   "metadata": {
    "collapsed": false,
    "ExecuteTime": {
     "end_time": "2023-08-10T12:12:35.124341182Z",
     "start_time": "2023-08-10T11:53:44.963471445Z"
    }
   }
  }
 ],
 "metadata": {
  "kernelspec": {
   "display_name": "Python 3",
   "language": "python",
   "name": "python3"
  },
  "language_info": {
   "codemirror_mode": {
    "name": "ipython",
    "version": 2
   },
   "file_extension": ".py",
   "mimetype": "text/x-python",
   "name": "python",
   "nbconvert_exporter": "python",
   "pygments_lexer": "ipython2",
   "version": "2.7.6"
  }
 },
 "nbformat": 4,
 "nbformat_minor": 0
}
