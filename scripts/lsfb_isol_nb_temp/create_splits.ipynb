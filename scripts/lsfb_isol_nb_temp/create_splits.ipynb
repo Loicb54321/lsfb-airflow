{
 "cells": [
  {
   "cell_type": "code",
   "execution_count": 1,
   "outputs": [],
   "source": [
    "from lsfb_processing.lsfb_isol.splits import convert_all_splits\n",
    "\n",
    "cont_root = \"/run/media/ppoitier/ppoitier/datasets/sign-languages/lsfb/cont\"\n",
    "isol_root = \"/run/media/ppoitier/ppoitier/datasets/sign-languages/lsfb/isol\"\n",
    "\n",
    "convert_all_splits(cont_root, isol_root)"
   ],
   "metadata": {
    "collapsed": false,
    "ExecuteTime": {
     "end_time": "2023-09-11T09:40:04.116925656Z",
     "start_time": "2023-09-11T09:39:29.530905823Z"
    }
   }
  },
  {
   "cell_type": "code",
   "execution_count": null,
   "outputs": [],
   "source": [],
   "metadata": {
    "collapsed": false
   }
  }
 ],
 "metadata": {
  "kernelspec": {
   "display_name": "Python 3",
   "language": "python",
   "name": "python3"
  },
  "language_info": {
   "codemirror_mode": {
    "name": "ipython",
    "version": 2
   },
   "file_extension": ".py",
   "mimetype": "text/x-python",
   "name": "python",
   "nbconvert_exporter": "python",
   "pygments_lexer": "ipython2",
   "version": "2.7.6"
  }
 },
 "nbformat": 4,
 "nbformat_minor": 0
}
