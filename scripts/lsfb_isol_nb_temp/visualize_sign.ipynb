{
 "cells": [
  {
   "cell_type": "markdown",
   "source": [
    "# Multiple visualisations d'un signe"
   ],
   "metadata": {
    "collapsed": false
   }
  },
  {
   "cell_type": "code",
   "execution_count": 31,
   "outputs": [],
   "source": [
    "import pandas as pd\n",
    "import numpy as np\n",
    "\n",
    "from sign_language_tools import VideoPlayer\n",
    "from sign_language_tools.pose.mediapipe.edges import FACE_EDGES, HAND_EDGES, POSE_EDGES\n",
    "\n",
    "cont_root = \"/run/media/ppoitier/ppoitier/datasets/sign-languages/lsfb/cont\"\n",
    "isol_root = \"/run/user/1000/gvfs/smb-share:server=hyperion,share=data/datasets/sign-languages/lsfb_v2/isol\""
   ],
   "metadata": {
    "collapsed": false,
    "ExecuteTime": {
     "end_time": "2023-08-11T07:52:35.881899236Z",
     "start_time": "2023-08-11T07:52:35.837185643Z"
    }
   }
  },
  {
   "cell_type": "code",
   "execution_count": 32,
   "outputs": [
    {
     "data": {
      "text/plain": "sign           PARLER\noccurrences       391\nName: 47, dtype: object"
     },
     "execution_count": 32,
     "metadata": {},
     "output_type": "execute_result"
    }
   ],
   "source": [
    "signs = pd.read_csv(f\"{cont_root}/metadata/sign_occurrences.csv\")\n",
    "signs: pd.DataFrame = signs.loc[signs['occurrences'] >= 20]\n",
    "\n",
    "sign = signs.query('sign == \"PARLER\"').iloc[0]\n",
    "sign"
   ],
   "metadata": {
    "collapsed": false,
    "ExecuteTime": {
     "end_time": "2023-08-11T07:52:35.995876003Z",
     "start_time": "2023-08-11T07:52:35.875890155Z"
    }
   }
  },
  {
   "cell_type": "code",
   "execution_count": 33,
   "outputs": [
    {
     "data": {
      "text/plain": "                                     id    sign signer   start     end\n68522    CLSFBI2906A_S059_B_26902_27029  PARLER   S059   26902   27029\n8412   CLSFBI0220A_S004_B_489662_494327  PARLER   S004  489662  494327\n66228  CLSFBI2903A_S059_B_217716_217876  PARLER   S059  217716  217876\n32384  CLSFBI1803A_S038_B_450017_450302  PARLER   S038  450017  450302\n39182  CLSFBI1913A_S040_B_167790_167987  PARLER   S040  167790  167987\n76885  CLSFBI3204A_S066_B_268807_269181  PARLER   S066  268807  269181\n6000   CLSFBI0211A_S004_B_429115_429374  PARLER   S004  429115  429374\n895    CLSFBI0104A_S001_B_354661_354843  PARLER   S001  354661  354843\n19946    CLSFBI1005A_S025_B_63745_64335  PARLER   S025   63745   64335\n35202  CLSFBI1903A_S041_B_198754_199015  PARLER   S041  198754  199015",
      "text/html": "<div>\n<style scoped>\n    .dataframe tbody tr th:only-of-type {\n        vertical-align: middle;\n    }\n\n    .dataframe tbody tr th {\n        vertical-align: top;\n    }\n\n    .dataframe thead th {\n        text-align: right;\n    }\n</style>\n<table border=\"1\" class=\"dataframe\">\n  <thead>\n    <tr style=\"text-align: right;\">\n      <th></th>\n      <th>id</th>\n      <th>sign</th>\n      <th>signer</th>\n      <th>start</th>\n      <th>end</th>\n    </tr>\n  </thead>\n  <tbody>\n    <tr>\n      <th>68522</th>\n      <td>CLSFBI2906A_S059_B_26902_27029</td>\n      <td>PARLER</td>\n      <td>S059</td>\n      <td>26902</td>\n      <td>27029</td>\n    </tr>\n    <tr>\n      <th>8412</th>\n      <td>CLSFBI0220A_S004_B_489662_494327</td>\n      <td>PARLER</td>\n      <td>S004</td>\n      <td>489662</td>\n      <td>494327</td>\n    </tr>\n    <tr>\n      <th>66228</th>\n      <td>CLSFBI2903A_S059_B_217716_217876</td>\n      <td>PARLER</td>\n      <td>S059</td>\n      <td>217716</td>\n      <td>217876</td>\n    </tr>\n    <tr>\n      <th>32384</th>\n      <td>CLSFBI1803A_S038_B_450017_450302</td>\n      <td>PARLER</td>\n      <td>S038</td>\n      <td>450017</td>\n      <td>450302</td>\n    </tr>\n    <tr>\n      <th>39182</th>\n      <td>CLSFBI1913A_S040_B_167790_167987</td>\n      <td>PARLER</td>\n      <td>S040</td>\n      <td>167790</td>\n      <td>167987</td>\n    </tr>\n    <tr>\n      <th>76885</th>\n      <td>CLSFBI3204A_S066_B_268807_269181</td>\n      <td>PARLER</td>\n      <td>S066</td>\n      <td>268807</td>\n      <td>269181</td>\n    </tr>\n    <tr>\n      <th>6000</th>\n      <td>CLSFBI0211A_S004_B_429115_429374</td>\n      <td>PARLER</td>\n      <td>S004</td>\n      <td>429115</td>\n      <td>429374</td>\n    </tr>\n    <tr>\n      <th>895</th>\n      <td>CLSFBI0104A_S001_B_354661_354843</td>\n      <td>PARLER</td>\n      <td>S001</td>\n      <td>354661</td>\n      <td>354843</td>\n    </tr>\n    <tr>\n      <th>19946</th>\n      <td>CLSFBI1005A_S025_B_63745_64335</td>\n      <td>PARLER</td>\n      <td>S025</td>\n      <td>63745</td>\n      <td>64335</td>\n    </tr>\n    <tr>\n      <th>35202</th>\n      <td>CLSFBI1903A_S041_B_198754_199015</td>\n      <td>PARLER</td>\n      <td>S041</td>\n      <td>198754</td>\n      <td>199015</td>\n    </tr>\n  </tbody>\n</table>\n</div>"
     },
     "execution_count": 33,
     "metadata": {},
     "output_type": "execute_result"
    }
   ],
   "source": [
    "all_instances = pd.read_csv(f\"{isol_root}/instances.csv\")\n",
    "tested_instances = all_instances.loc[all_instances['sign'] == sign['sign']].sample(10, random_state=42)\n",
    "tested_instances"
   ],
   "metadata": {
    "collapsed": false,
    "ExecuteTime": {
     "end_time": "2023-08-11T07:52:36.182462970Z",
     "start_time": "2023-08-11T07:52:35.997632506Z"
    }
   }
  },
  {
   "cell_type": "code",
   "execution_count": 34,
   "outputs": [
    {
     "name": "stderr",
     "output_type": "stream",
     "text": [
      "qt.qpa.xcb: QXcbConnection: XCB error: 148 (Unknown), sequence: 9026, resource id: 0, major code: 140 (Unknown), minor code: 20\n",
      "qt.qpa.xcb: QXcbConnection: XCB error: 148 (Unknown), sequence: 9031, resource id: 1289, major code: 140 (Unknown), minor code: 20\n",
      "qt.qpa.xcb: QXcbConnection: XCB error: 148 (Unknown), sequence: 9090, resource id: 0, major code: 140 (Unknown), minor code: 20\n",
      "qt.qpa.xcb: QXcbConnection: XCB error: 148 (Unknown), sequence: 9095, resource id: 1306, major code: 140 (Unknown), minor code: 20\n",
      "qt.qpa.xcb: QXcbConnection: XCB error: 148 (Unknown), sequence: 9152, resource id: 0, major code: 140 (Unknown), minor code: 20\n",
      "qt.qpa.xcb: QXcbConnection: XCB error: 148 (Unknown), sequence: 9157, resource id: 1311, major code: 140 (Unknown), minor code: 20\n",
      "qt.qpa.xcb: QXcbConnection: XCB error: 148 (Unknown), sequence: 9196, resource id: 0, major code: 140 (Unknown), minor code: 20\n",
      "qt.qpa.xcb: QXcbConnection: XCB error: 148 (Unknown), sequence: 9201, resource id: 1318, major code: 140 (Unknown), minor code: 20\n",
      "qt.qpa.xcb: QXcbConnection: XCB error: 148 (Unknown), sequence: 9228, resource id: 0, major code: 140 (Unknown), minor code: 20\n",
      "qt.qpa.xcb: QXcbConnection: XCB error: 148 (Unknown), sequence: 9233, resource id: 1326, major code: 140 (Unknown), minor code: 20\n",
      "qt.qpa.xcb: QXcbConnection: XCB error: 148 (Unknown), sequence: 9290, resource id: 0, major code: 140 (Unknown), minor code: 20\n",
      "qt.qpa.xcb: QXcbConnection: XCB error: 148 (Unknown), sequence: 9295, resource id: 1334, major code: 140 (Unknown), minor code: 20\n",
      "qt.qpa.xcb: QXcbConnection: XCB error: 148 (Unknown), sequence: 9322, resource id: 0, major code: 140 (Unknown), minor code: 20\n",
      "qt.qpa.xcb: QXcbConnection: XCB error: 148 (Unknown), sequence: 9327, resource id: 1341, major code: 140 (Unknown), minor code: 20\n"
     ]
    }
   ],
   "source": [
    "for video_id in tested_instances['id']:\n",
    "    player = VideoPlayer()\n",
    "    player.attach_video(f\"{isol_root}/videos/{video_id}.mp4\")\n",
    "    player.attach_pose(\"pose\", np.load(f\"{isol_root}/poses/pose/{video_id}.npy\"), POSE_EDGES)\n",
    "    player.attach_pose(\"face\", np.load(f\"{isol_root}/poses/face/{video_id}.npy\"), FACE_EDGES, show_vertices=False)\n",
    "    player.attach_pose(\"left hand\", np.load(f\"{isol_root}/poses/left_hand/{video_id}.npy\"), HAND_EDGES)\n",
    "    player.attach_pose(\"right hand\", np.load(f\"{isol_root}/poses/right_hand/{video_id}.npy\"), HAND_EDGES)\n",
    "    player.set_speed(0.2)\n",
    "    player.play()"
   ],
   "metadata": {
    "collapsed": false,
    "ExecuteTime": {
     "end_time": "2023-08-11T07:53:13.500973680Z",
     "start_time": "2023-08-11T07:52:36.180496029Z"
    }
   }
  },
  {
   "cell_type": "code",
   "execution_count": 34,
   "outputs": [],
   "source": [],
   "metadata": {
    "collapsed": false,
    "ExecuteTime": {
     "end_time": "2023-08-11T07:53:13.527861290Z",
     "start_time": "2023-08-11T07:53:13.502939956Z"
    }
   }
  }
 ],
 "metadata": {
  "kernelspec": {
   "display_name": "Python 3",
   "language": "python",
   "name": "python3"
  },
  "language_info": {
   "codemirror_mode": {
    "name": "ipython",
    "version": 2
   },
   "file_extension": ".py",
   "mimetype": "text/x-python",
   "name": "python",
   "nbconvert_exporter": "python",
   "pygments_lexer": "ipython2",
   "version": "2.7.6"
  }
 },
 "nbformat": 4,
 "nbformat_minor": 0
}
