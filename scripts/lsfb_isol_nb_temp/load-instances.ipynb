{
 "cells": [
  {
   "metadata": {
    "ExecuteTime": {
     "end_time": "2024-10-10T07:48:38.958650Z",
     "start_time": "2024-10-10T07:48:38.546308Z"
    }
   },
   "cell_type": "code",
   "source": "from lsfb_dataset import LSFBIsolConfig, LSFBIsolLandmarks",
   "id": "9a5b52a033531f09",
   "outputs": [],
   "execution_count": 1
  },
  {
   "metadata": {
    "ExecuteTime": {
     "end_time": "2024-10-10T07:48:38.966420Z",
     "start_time": "2024-10-10T07:48:38.963192Z"
    }
   },
   "cell_type": "code",
   "source": "root = \"/run/media/ppoitier/ppoitier/datasets/sign-languages/lsfb/isol\"",
   "id": "20de6290b9a5b310",
   "outputs": [],
   "execution_count": 2
  },
  {
   "cell_type": "code",
   "id": "initial_id",
   "metadata": {
    "collapsed": true,
    "ExecuteTime": {
     "end_time": "2024-10-10T07:49:25.234836Z",
     "start_time": "2024-10-10T07:48:39.041867Z"
    }
   },
   "source": [
    "dataset = LSFBIsolLandmarks(\n",
    "    LSFBIsolConfig(\n",
    "        root=root,\n",
    "        split=\"mini_sample\",\n",
    "        landmarks=(\"upper_pose\", \"left_hand\", \"right_hand\", \"lips\"),\n",
    "        n_labels=500,\n",
    "    )\n",
    ")"
   ],
   "outputs": [
    {
     "name": "stderr",
     "output_type": "stream",
     "text": [
      "100%|██████████| 1329/1329 [00:45<00:00, 29.48it/s] \n"
     ]
    }
   ],
   "execution_count": 3
  },
  {
   "metadata": {
    "ExecuteTime": {
     "end_time": "2024-10-10T07:49:57.033324Z",
     "start_time": "2024-10-10T07:49:57.030421Z"
    }
   },
   "cell_type": "code",
   "source": "dataset[0][1]",
   "id": "57fb42254d5fce17",
   "outputs": [
    {
     "data": {
      "text/plain": [
       "0"
      ]
     },
     "execution_count": 5,
     "metadata": {},
     "output_type": "execute_result"
    }
   ],
   "execution_count": 5
  },
  {
   "metadata": {
    "ExecuteTime": {
     "end_time": "2024-10-10T07:52:02.329479Z",
     "start_time": "2024-10-10T07:52:02.326164Z"
    }
   },
   "cell_type": "code",
   "source": [
    "instance_id = dataset.instances[0]\n",
    "parent_id = '_'.join(instance_id.split('_')[:-2])\n",
    "start = instance_id.split('_')[-2]\n",
    "end = instance_id.split('_')[-1]\n",
    "parent_id, start, end, instance_id"
   ],
   "id": "9f5e868add91149a",
   "outputs": [
    {
     "data": {
      "text/plain": [
       "('CLSFBI0202A_S004_B', '17227', '17559', 'CLSFBI0202A_S004_B_17227_17559')"
      ]
     },
     "execution_count": 8,
     "metadata": {},
     "output_type": "execute_result"
    }
   ],
   "execution_count": 8
  },
  {
   "metadata": {
    "ExecuteTime": {
     "end_time": "2024-10-10T07:55:03.859301Z",
     "start_time": "2024-10-10T07:55:03.848063Z"
    }
   },
   "cell_type": "code",
   "source": [
    "metadata = dataset.instance_metadata.set_index(\"id\")\n",
    "metadata"
   ],
   "id": "b2b66ca19c754742",
   "outputs": [
    {
     "data": {
      "text/plain": [
       "                                     sign signer  start    end\n",
       "id                                                            \n",
       "CLSFBI0202A_S004_B_17227_17559      AUSSI   S004  17227  17559\n",
       "CLSFBI0202A_S004_B_18157_18281      AVANT   S004  18157  18281\n",
       "CLSFBI0202A_S004_B_18523_18943         LS   S004  18523  18943\n",
       "CLSFBI0202A_S004_B_20542_20714  NS:WOLUWE   S004  20542  20714\n",
       "CLSFBI0202A_S004_B_23193_23377      APRES   S004  23193  23377\n",
       "...                                   ...    ...    ...    ...\n",
       "CLSFBI4515A_S091_B_7450_7770          AGE   S091   7450   7770\n",
       "CLSFBI4515A_S091_B_8415_8950     DEMANDER   S091   8415   8950\n",
       "CLSFBI4515A_S091_B_9272_9582        MAMAN   S091   9272   9582\n",
       "CLSFBI4515A_S091_B_9967_10247       ENVIE   S091   9967  10247\n",
       "CLSFBI4515A_S091_B_10562_11112  APPRENDRE   S091  10562  11112\n",
       "\n",
       "[1329 rows x 4 columns]"
      ],
      "text/html": [
       "<div>\n",
       "<style scoped>\n",
       "    .dataframe tbody tr th:only-of-type {\n",
       "        vertical-align: middle;\n",
       "    }\n",
       "\n",
       "    .dataframe tbody tr th {\n",
       "        vertical-align: top;\n",
       "    }\n",
       "\n",
       "    .dataframe thead th {\n",
       "        text-align: right;\n",
       "    }\n",
       "</style>\n",
       "<table border=\"1\" class=\"dataframe\">\n",
       "  <thead>\n",
       "    <tr style=\"text-align: right;\">\n",
       "      <th></th>\n",
       "      <th>sign</th>\n",
       "      <th>signer</th>\n",
       "      <th>start</th>\n",
       "      <th>end</th>\n",
       "    </tr>\n",
       "    <tr>\n",
       "      <th>id</th>\n",
       "      <th></th>\n",
       "      <th></th>\n",
       "      <th></th>\n",
       "      <th></th>\n",
       "    </tr>\n",
       "  </thead>\n",
       "  <tbody>\n",
       "    <tr>\n",
       "      <th>CLSFBI0202A_S004_B_17227_17559</th>\n",
       "      <td>AUSSI</td>\n",
       "      <td>S004</td>\n",
       "      <td>17227</td>\n",
       "      <td>17559</td>\n",
       "    </tr>\n",
       "    <tr>\n",
       "      <th>CLSFBI0202A_S004_B_18157_18281</th>\n",
       "      <td>AVANT</td>\n",
       "      <td>S004</td>\n",
       "      <td>18157</td>\n",
       "      <td>18281</td>\n",
       "    </tr>\n",
       "    <tr>\n",
       "      <th>CLSFBI0202A_S004_B_18523_18943</th>\n",
       "      <td>LS</td>\n",
       "      <td>S004</td>\n",
       "      <td>18523</td>\n",
       "      <td>18943</td>\n",
       "    </tr>\n",
       "    <tr>\n",
       "      <th>CLSFBI0202A_S004_B_20542_20714</th>\n",
       "      <td>NS:WOLUWE</td>\n",
       "      <td>S004</td>\n",
       "      <td>20542</td>\n",
       "      <td>20714</td>\n",
       "    </tr>\n",
       "    <tr>\n",
       "      <th>CLSFBI0202A_S004_B_23193_23377</th>\n",
       "      <td>APRES</td>\n",
       "      <td>S004</td>\n",
       "      <td>23193</td>\n",
       "      <td>23377</td>\n",
       "    </tr>\n",
       "    <tr>\n",
       "      <th>...</th>\n",
       "      <td>...</td>\n",
       "      <td>...</td>\n",
       "      <td>...</td>\n",
       "      <td>...</td>\n",
       "    </tr>\n",
       "    <tr>\n",
       "      <th>CLSFBI4515A_S091_B_7450_7770</th>\n",
       "      <td>AGE</td>\n",
       "      <td>S091</td>\n",
       "      <td>7450</td>\n",
       "      <td>7770</td>\n",
       "    </tr>\n",
       "    <tr>\n",
       "      <th>CLSFBI4515A_S091_B_8415_8950</th>\n",
       "      <td>DEMANDER</td>\n",
       "      <td>S091</td>\n",
       "      <td>8415</td>\n",
       "      <td>8950</td>\n",
       "    </tr>\n",
       "    <tr>\n",
       "      <th>CLSFBI4515A_S091_B_9272_9582</th>\n",
       "      <td>MAMAN</td>\n",
       "      <td>S091</td>\n",
       "      <td>9272</td>\n",
       "      <td>9582</td>\n",
       "    </tr>\n",
       "    <tr>\n",
       "      <th>CLSFBI4515A_S091_B_9967_10247</th>\n",
       "      <td>ENVIE</td>\n",
       "      <td>S091</td>\n",
       "      <td>9967</td>\n",
       "      <td>10247</td>\n",
       "    </tr>\n",
       "    <tr>\n",
       "      <th>CLSFBI4515A_S091_B_10562_11112</th>\n",
       "      <td>APPRENDRE</td>\n",
       "      <td>S091</td>\n",
       "      <td>10562</td>\n",
       "      <td>11112</td>\n",
       "    </tr>\n",
       "  </tbody>\n",
       "</table>\n",
       "<p>1329 rows × 4 columns</p>\n",
       "</div>"
      ]
     },
     "execution_count": 9,
     "metadata": {},
     "output_type": "execute_result"
    }
   ],
   "execution_count": 9
  },
  {
   "metadata": {
    "ExecuteTime": {
     "end_time": "2024-10-10T07:58:48.773024Z",
     "start_time": "2024-10-10T07:58:48.766753Z"
    }
   },
   "cell_type": "code",
   "source": "metadata['signer'].str.replace('S', '').astype('int32')",
   "id": "b40f73e6cb74c68e",
   "outputs": [
    {
     "data": {
      "text/plain": [
       "id\n",
       "CLSFBI0202A_S004_B_17227_17559     4\n",
       "CLSFBI0202A_S004_B_18157_18281     4\n",
       "CLSFBI0202A_S004_B_18523_18943     4\n",
       "CLSFBI0202A_S004_B_20542_20714     4\n",
       "CLSFBI0202A_S004_B_23193_23377     4\n",
       "                                  ..\n",
       "CLSFBI4515A_S091_B_7450_7770      91\n",
       "CLSFBI4515A_S091_B_8415_8950      91\n",
       "CLSFBI4515A_S091_B_9272_9582      91\n",
       "CLSFBI4515A_S091_B_9967_10247     91\n",
       "CLSFBI4515A_S091_B_10562_11112    91\n",
       "Name: signer, Length: 1329, dtype: int32"
      ]
     },
     "execution_count": 12,
     "metadata": {},
     "output_type": "execute_result"
    }
   ],
   "execution_count": 12
  },
  {
   "metadata": {},
   "cell_type": "code",
   "outputs": [],
   "execution_count": null,
   "source": "",
   "id": "e51f55e9c8242360"
  }
 ],
 "metadata": {
  "kernelspec": {
   "display_name": "Python 3",
   "language": "python",
   "name": "python3"
  },
  "language_info": {
   "codemirror_mode": {
    "name": "ipython",
    "version": 2
   },
   "file_extension": ".py",
   "mimetype": "text/x-python",
   "name": "python",
   "nbconvert_exporter": "python",
   "pygments_lexer": "ipython2",
   "version": "2.7.6"
  }
 },
 "nbformat": 4,
 "nbformat_minor": 5
}
